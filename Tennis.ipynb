{
 "cells": [
  {
   "cell_type": "markdown",
   "metadata": {},
   "source": [
    "# Collaboration and Competition\n",
    "\n",
    "---\n",
    "\n",
    "You are welcome to use this coding environment to train your agent for the project.  Follow the instructions below to get started!\n",
    "\n",
    "### 1. Start the Environment\n",
    "\n",
    "Run the next code cell to install a few packages.  This line will take a few minutes to run!"
   ]
  },
  {
   "cell_type": "code",
   "execution_count": 1,
   "metadata": {},
   "outputs": [
    {
     "name": "stdout",
     "output_type": "stream",
     "text": [
      "\u001b[31mtensorflow 1.7.1 has requirement numpy>=1.13.3, but you'll have numpy 1.12.1 which is incompatible.\u001b[0m\r\n",
      "\u001b[31mipython 6.5.0 has requirement prompt-toolkit<2.0.0,>=1.0.15, but you'll have prompt-toolkit 3.0.5 which is incompatible.\u001b[0m\r\n"
     ]
    }
   ],
   "source": [
    "!pip -q install ./python"
   ]
  },
  {
   "cell_type": "markdown",
   "metadata": {},
   "source": [
    "The environment is already saved in the Workspace and can be accessed at the file path provided below. "
   ]
  },
  {
   "cell_type": "code",
   "execution_count": 2,
   "metadata": {},
   "outputs": [
    {
     "name": "stderr",
     "output_type": "stream",
     "text": [
      "INFO:unityagents:\n",
      "'Academy' started successfully!\n",
      "Unity Academy name: Academy\n",
      "        Number of Brains: 1\n",
      "        Number of External Brains : 1\n",
      "        Lesson number : 0\n",
      "        Reset Parameters :\n",
      "\t\t\n",
      "Unity brain name: TennisBrain\n",
      "        Number of Visual Observations (per agent): 0\n",
      "        Vector Observation space type: continuous\n",
      "        Vector Observation space size (per agent): 8\n",
      "        Number of stacked Vector Observation: 3\n",
      "        Vector Action space type: continuous\n",
      "        Vector Action space size (per agent): 2\n",
      "        Vector Action descriptions: , \n"
     ]
    }
   ],
   "source": [
    "from unityagents import UnityEnvironment\n",
    "import numpy as np\n",
    "\n",
    "env = UnityEnvironment(file_name=\"/data/Tennis_Linux_NoVis/Tennis\")"
   ]
  },
  {
   "cell_type": "markdown",
   "metadata": {},
   "source": [
    "Environments contain **_brains_** which are responsible for deciding the actions of their associated agents. Here we check for the first brain available, and set it as the default brain we will be controlling from Python."
   ]
  },
  {
   "cell_type": "code",
   "execution_count": 3,
   "metadata": {},
   "outputs": [],
   "source": [
    "# get the default brain\n",
    "brain_name = env.brain_names[0]\n",
    "brain = env.brains[brain_name]"
   ]
  },
  {
   "cell_type": "markdown",
   "metadata": {},
   "source": [
    "### 2. Examine the State and Action Spaces\n",
    "\n",
    "Run the code cell below to print some information about the environment."
   ]
  },
  {
   "cell_type": "code",
   "execution_count": 4,
   "metadata": {},
   "outputs": [
    {
     "name": "stdout",
     "output_type": "stream",
     "text": [
      "Number of agents: 2\n",
      "Size of each action: 2\n",
      "There are 2 agents. Each observes a state with length: 24\n",
      "The state for the first agent looks like: [ 0.          0.          0.          0.          0.          0.          0.\n",
      "  0.          0.          0.          0.          0.          0.          0.\n",
      "  0.          0.         -6.65278625 -1.5        -0.          0.\n",
      "  6.83172083  6.         -0.          0.        ]\n"
     ]
    }
   ],
   "source": [
    "# reset the environment\n",
    "env_info = env.reset(train_mode=True)[brain_name]\n",
    "\n",
    "# number of agents \n",
    "num_agents = len(env_info.agents)\n",
    "print('Number of agents:', num_agents)\n",
    "\n",
    "# size of each action\n",
    "action_size = brain.vector_action_space_size\n",
    "print('Size of each action:', action_size)\n",
    "\n",
    "# examine the state space \n",
    "states = env_info.vector_observations\n",
    "state_size = states.shape[1]\n",
    "print('There are {} agents. Each observes a state with length: {}'.format(states.shape[0], state_size))\n",
    "print('The state for the first agent looks like:', states[0])"
   ]
  },
  {
   "cell_type": "markdown",
   "metadata": {},
   "source": [
    "### 3. Take Random Actions in the Environment\n",
    "\n",
    "In the next code cell, you will learn how to use the Python API to control the agent and receive feedback from the environment.\n",
    "\n",
    "Note that **in this coding environment, you will not be able to watch the agents while they are training**, and you should set `train_mode=True` to restart the environment."
   ]
  },
  {
   "cell_type": "code",
   "execution_count": 5,
   "metadata": {},
   "outputs": [
    {
     "name": "stdout",
     "output_type": "stream",
     "text": [
      "Total score (averaged over agents) this episode: -0.004999999888241291\n",
      "Total score (averaged over agents) this episode: -0.004999999888241291\n",
      "Total score (averaged over agents) this episode: 0.04500000085681677\n",
      "Total score (averaged over agents) this episode: -0.004999999888241291\n",
      "Total score (averaged over agents) this episode: 0.04500000085681677\n"
     ]
    }
   ],
   "source": [
    "for i in range(5):                                         # play game for 5 episodes\n",
    "    env_info = env.reset(train_mode=False)[brain_name]     # reset the environment    \n",
    "    states = env_info.vector_observations                  # get the current state (for each agent)\n",
    "    scores = np.zeros(num_agents)                          # initialize the score (for each agent)\n",
    "    while True:\n",
    "        actions = np.random.randn(num_agents, action_size) # select an action (for each agent)\n",
    "        actions = np.clip(actions, -1, 1)                  # all actions between -1 and 1\n",
    "        env_info = env.step(actions)[brain_name]           # send all actions to tne environment\n",
    "        next_states = env_info.vector_observations         # get next state (for each agent)\n",
    "        rewards = env_info.rewards                         # get reward (for each agent)\n",
    "        dones = env_info.local_done                        # see if episode finished\n",
    "        scores += env_info.rewards                         # update the score (for each agent)\n",
    "        states = next_states                               # roll over states to next time step\n",
    "        if np.any(dones):                                  # exit loop if episode finished\n",
    "            break\n",
    "    print('Total score (averaged over agents) this episode: {}'.format(np.mean(scores)))"
   ]
  },
  {
   "cell_type": "markdown",
   "metadata": {},
   "source": [
    "### 4. It's Your Turn!\n",
    "\n",
    "Now it's your turn to train your own agent to solve the environment!  A few **important notes**:\n",
    "- When training the environment, set `train_mode=True`, so that the line for resetting the environment looks like the following:\n",
    "```python\n",
    "env_info = env.reset(train_mode=True)[brain_name]\n",
    "```\n",
    "- To structure your work, you're welcome to work directly in this Jupyter notebook, or you might like to start over with a new file!  You can see the list of files in the workspace by clicking on **_Jupyter_** in the top left corner of the notebook.\n",
    "- In this coding environment, you will not be able to watch the agents while they are training.  However, **_after training the agents_**, you can download the saved model weights to watch the agents on your own machine! "
   ]
  },
  {
   "cell_type": "code",
   "execution_count": 6,
   "metadata": {},
   "outputs": [],
   "source": [
    "%matplotlib inline\n",
    "\n",
    "import torch\n",
    "\n",
    "from maddpg import MADDPG\n",
    "\n",
    "from collections import deque\n",
    "import matplotlib.pyplot as plt\n",
    "import time, os"
   ]
  },
  {
   "cell_type": "code",
   "execution_count": 7,
   "metadata": {},
   "outputs": [],
   "source": [
    "maddpg = MADDPG(24, 2, 2, 1976)"
   ]
  },
  {
   "cell_type": "code",
   "execution_count": 9,
   "metadata": {},
   "outputs": [],
   "source": [
    "scores_max_hist = []\n",
    "scores_mean_hist = []\n",
    "\n",
    "def maddpg_train(n_episodes=1500):\n",
    "    \n",
    "    scores_deque = deque(maxlen=100)\n",
    "    solved = False\n",
    "    \n",
    "    for i_episode in range(n_episodes):\n",
    "        env_info = env.reset(train_mode=True)[brain_name]\n",
    "        state = env_info.vector_observations\n",
    "        scores = np.zeros(num_agents)\n",
    "        maddpg.reset()\n",
    "        step = 0\n",
    "        while True:\n",
    "            step += 1\n",
    "            action = maddpg.act(state, i_episode, add_noise=True)\n",
    "            env_info = env.step(action)[brain_name]\n",
    "            \n",
    "            next_state = env_info.vector_observations\n",
    "            reward = env_info.rewards\n",
    "            done = env_info.local_done\n",
    "            \n",
    "            scores += reward\n",
    "            \n",
    "            maddpg.step(i_episode, state, action, reward, next_state, done)\n",
    "            \n",
    "            if np.any(done):\n",
    "                break\n",
    "                \n",
    "            state = next_state\n",
    "            \n",
    "        score_max = np.max(scores)\n",
    "        scores_deque.append(score_max)\n",
    "        score_mean = np.mean(scores_deque)\n",
    "        \n",
    "        scores_max_hist.append(score_max)\n",
    "        scores_mean_hist.append(score_mean)\n",
    "\n",
    "        print('\\r{} episode\\tavg score {:.5f}\\tmax score {:.5f}'.format(i_episode, np.mean(scores_deque), score_max), end='')\n",
    "        if solved == False and score_mean >= 0.5:\n",
    "            print('\\nEnvironment solved after {} episodes with the average score {}\\n'.format(i_episode, score_mean))\n",
    "            maddpg.save()\n",
    "            solved = True\n",
    "        \n",
    "        if i_episode % 10 == 0:\n",
    "            print()"
   ]
  },
  {
   "cell_type": "code",
   "execution_count": 10,
   "metadata": {},
   "outputs": [
    {
     "name": "stdout",
     "output_type": "stream",
     "text": [
      "0 episode\tavg score 0.00000\tmax score 0.00000\n",
      "10 episode\tavg score 0.02455\tmax score 0.00000\n",
      "20 episode\tavg score 0.02714\tmax score 0.00000\n",
      "30 episode\tavg score 0.02452\tmax score 0.00000\n",
      "40 episode\tavg score 0.02098\tmax score 0.00000\n",
      "50 episode\tavg score 0.02039\tmax score 0.00000\n",
      "60 episode\tavg score 0.02016\tmax score 0.09000\n",
      "70 episode\tavg score 0.01873\tmax score 0.10000\n",
      "80 episode\tavg score 0.01642\tmax score 0.00000\n",
      "90 episode\tavg score 0.01670\tmax score 0.00000\n",
      "100 episode\tavg score 0.01610\tmax score 0.00000\n",
      "110 episode\tavg score 0.01440\tmax score 0.10000\n",
      "120 episode\tavg score 0.01140\tmax score 0.00000\n",
      "130 episode\tavg score 0.00950\tmax score 0.00000\n",
      "140 episode\tavg score 0.00850\tmax score 0.00000\n",
      "150 episode\tavg score 0.00870\tmax score 0.10000\n",
      "160 episode\tavg score 0.00870\tmax score 0.00000\n",
      "170 episode\tavg score 0.00860\tmax score 0.00000\n",
      "180 episode\tavg score 0.00860\tmax score 0.00000\n",
      "190 episode\tavg score 0.00770\tmax score 0.10000\n",
      "200 episode\tavg score 0.01070\tmax score 0.00000\n",
      "210 episode\tavg score 0.01070\tmax score 0.00000\n",
      "220 episode\tavg score 0.01450\tmax score 0.00000\n",
      "230 episode\tavg score 0.01540\tmax score 0.00000\n",
      "240 episode\tavg score 0.01740\tmax score 0.00000\n",
      "250 episode\tavg score 0.01740\tmax score 0.00000\n",
      "260 episode\tavg score 0.01750\tmax score 0.00000\n",
      "270 episode\tavg score 0.01750\tmax score 0.00000\n",
      "280 episode\tavg score 0.01950\tmax score 0.00000\n",
      "290 episode\tavg score 0.01950\tmax score 0.00000\n",
      "300 episode\tavg score 0.01650\tmax score 0.00000\n",
      "310 episode\tavg score 0.01550\tmax score 0.00000\n",
      "320 episode\tavg score 0.01260\tmax score 0.09000\n",
      "330 episode\tavg score 0.01260\tmax score 0.00000\n",
      "340 episode\tavg score 0.01160\tmax score 0.00000\n",
      "350 episode\tavg score 0.01160\tmax score 0.10000\n",
      "360 episode\tavg score 0.01160\tmax score 0.00000\n",
      "370 episode\tavg score 0.01360\tmax score 0.00000\n",
      "380 episode\tavg score 0.01260\tmax score 0.00000\n",
      "390 episode\tavg score 0.01360\tmax score 0.10000\n",
      "400 episode\tavg score 0.01470\tmax score 0.00000\n",
      "410 episode\tavg score 0.01760\tmax score 0.10000\n",
      "420 episode\tavg score 0.01970\tmax score 0.00000\n",
      "430 episode\tavg score 0.02180\tmax score 0.00000\n",
      "440 episode\tavg score 0.02170\tmax score 0.00000\n",
      "450 episode\tavg score 0.01970\tmax score 0.00000\n",
      "460 episode\tavg score 0.01860\tmax score 0.00000\n",
      "470 episode\tavg score 0.01670\tmax score 0.00000\n",
      "480 episode\tavg score 0.01850\tmax score 0.00000\n",
      "490 episode\tavg score 0.02040\tmax score 0.00000\n",
      "500 episode\tavg score 0.02040\tmax score 0.00000\n",
      "510 episode\tavg score 0.01750\tmax score 0.00000\n",
      "520 episode\tavg score 0.01450\tmax score 0.00000\n",
      "530 episode\tavg score 0.01240\tmax score 0.00000\n",
      "540 episode\tavg score 0.01150\tmax score 0.00000\n",
      "550 episode\tavg score 0.01150\tmax score 0.00000\n",
      "560 episode\tavg score 0.01060\tmax score 0.00000\n",
      "570 episode\tavg score 0.00960\tmax score 0.00000\n",
      "580 episode\tavg score 0.00680\tmax score 0.00000\n",
      "590 episode\tavg score 0.00290\tmax score 0.00000\n",
      "600 episode\tavg score 0.00090\tmax score 0.00000\n",
      "610 episode\tavg score 0.00090\tmax score 0.00000\n",
      "620 episode\tavg score 0.00090\tmax score 0.00000\n",
      "630 episode\tavg score 0.00000\tmax score 0.00000\n",
      "640 episode\tavg score 0.00000\tmax score 0.00000\n",
      "650 episode\tavg score 0.00000\tmax score 0.00000\n",
      "660 episode\tavg score 0.00000\tmax score 0.00000\n",
      "670 episode\tavg score 0.00000\tmax score 0.00000\n",
      "680 episode\tavg score 0.00000\tmax score 0.00000\n",
      "690 episode\tavg score 0.00000\tmax score 0.00000\n",
      "700 episode\tavg score 0.00000\tmax score 0.00000\n",
      "710 episode\tavg score 0.00000\tmax score 0.00000\n",
      "720 episode\tavg score 0.00000\tmax score 0.00000\n",
      "730 episode\tavg score 0.00200\tmax score 0.10000\n",
      "740 episode\tavg score 0.00300\tmax score 0.00000\n",
      "750 episode\tavg score 0.00300\tmax score 0.00000\n",
      "760 episode\tavg score 0.00300\tmax score 0.00000\n",
      "770 episode\tavg score 0.00690\tmax score 0.00000\n",
      "780 episode\tavg score 0.01050\tmax score 0.00000\n",
      "790 episode\tavg score 0.01410\tmax score 0.00000\n",
      "800 episode\tavg score 0.01410\tmax score 0.00000\n",
      "810 episode\tavg score 0.01410\tmax score 0.00000\n",
      "820 episode\tavg score 0.01410\tmax score 0.00000\n",
      "830 episode\tavg score 0.01510\tmax score 0.10000\n",
      "840 episode\tavg score 0.01810\tmax score 0.10000\n",
      "850 episode\tavg score 0.01910\tmax score 0.00000\n",
      "860 episode\tavg score 0.01910\tmax score 0.00000\n",
      "870 episode\tavg score 0.01520\tmax score 0.00000\n",
      "880 episode\tavg score 0.01460\tmax score 0.00000\n",
      "890 episode\tavg score 0.01600\tmax score 0.10000\n",
      "900 episode\tavg score 0.02280\tmax score 0.00000\n",
      "910 episode\tavg score 0.03040\tmax score 0.10000\n",
      "920 episode\tavg score 0.03820\tmax score 0.09000\n",
      "930 episode\tavg score 0.04490\tmax score 0.09000\n",
      "940 episode\tavg score 0.05140\tmax score 0.10000\n",
      "950 episode\tavg score 0.05990\tmax score 0.10000\n",
      "960 episode\tavg score 0.07050\tmax score 0.10000\n",
      "970 episode\tavg score 0.08250\tmax score 0.20000\n",
      "980 episode\tavg score 0.09000\tmax score 0.10000\n",
      "990 episode\tavg score 0.09600\tmax score 0.10000\n",
      "1000 episode\tavg score 0.09800\tmax score 0.10000\n",
      "1010 episode\tavg score 0.10020\tmax score 0.10000\n",
      "1020 episode\tavg score 0.10110\tmax score 0.10000\n",
      "1030 episode\tavg score 0.10120\tmax score 0.10000\n",
      "1040 episode\tavg score 0.10020\tmax score 0.09000\n",
      "1050 episode\tavg score 0.10020\tmax score 0.00000\n",
      "1060 episode\tavg score 0.09640\tmax score 0.10000\n",
      "1070 episode\tavg score 0.09430\tmax score 0.00000\n",
      "1080 episode\tavg score 0.09260\tmax score 0.10000\n",
      "1090 episode\tavg score 0.09030\tmax score 0.10000\n",
      "1100 episode\tavg score 0.09110\tmax score 0.10000\n",
      "1110 episode\tavg score 0.09100\tmax score 0.10000\n",
      "1120 episode\tavg score 0.09800\tmax score 0.10000\n",
      "1130 episode\tavg score 0.10200\tmax score 0.10000\n",
      "1140 episode\tavg score 0.10610\tmax score 0.20000\n",
      "1150 episode\tavg score 0.10730\tmax score 0.10000\n",
      "1160 episode\tavg score 0.11130\tmax score 0.10000\n",
      "1170 episode\tavg score 0.11330\tmax score 0.20000\n",
      "1180 episode\tavg score 0.11830\tmax score 0.20000\n",
      "1190 episode\tavg score 0.12540\tmax score 0.10000\n",
      "1200 episode\tavg score 0.12930\tmax score 0.10000\n",
      "1210 episode\tavg score 0.13130\tmax score 0.10000\n",
      "1220 episode\tavg score 0.13140\tmax score 0.10000\n",
      "1230 episode\tavg score 0.13450\tmax score 0.30000\n",
      "1240 episode\tavg score 0.13870\tmax score 0.10000\n",
      "1250 episode\tavg score 0.14650\tmax score 0.00000\n",
      "1260 episode\tavg score 0.14460\tmax score 0.10000\n",
      "1270 episode\tavg score 0.18650\tmax score 2.60000\n",
      "1280 episode\tavg score 0.21470\tmax score 1.60000\n",
      "1290 episode\tavg score 0.27580\tmax score 2.60000\n",
      "1300 episode\tavg score 0.45530\tmax score 2.60000\n",
      "1305 episode\tavg score 0.52350\tmax score 2.50000\n",
      "Environment solved after 1305 episodes with the average score 0.5235000078566372\n",
      "\n",
      "1310 episode\tavg score 0.56260\tmax score 0.10000\n",
      "1320 episode\tavg score 0.66170\tmax score 0.60000\n",
      "1330 episode\tavg score 0.75880\tmax score 0.50000\n",
      "1340 episode\tavg score 0.91500\tmax score 0.00000\n",
      "1350 episode\tavg score 1.06850\tmax score 0.00000\n",
      "1360 episode\tavg score 1.18260\tmax score 0.60000\n",
      "1370 episode\tavg score 1.23350\tmax score 1.70000\n",
      "1380 episode\tavg score 1.32740\tmax score 2.70000\n",
      "1390 episode\tavg score 1.36550\tmax score 0.70000\n",
      "1400 episode\tavg score 1.28350\tmax score 1.00000\n",
      "1410 episode\tavg score 1.32440\tmax score 2.60000\n",
      "1420 episode\tavg score 1.31650\tmax score 2.60000\n",
      "1430 episode\tavg score 1.36730\tmax score 2.60000\n",
      "1440 episode\tavg score 1.38430\tmax score 2.70000\n",
      "1450 episode\tavg score 1.35930\tmax score 0.60000\n",
      "1460 episode\tavg score 1.26030\tmax score 0.10000\n",
      "1470 episode\tavg score 1.17760\tmax score 0.20000\n",
      "1480 episode\tavg score 1.06970\tmax score 0.10000\n",
      "1490 episode\tavg score 1.02070\tmax score 0.10000\n",
      "1499 episode\tavg score 0.93770\tmax score 0.10000"
     ]
    }
   ],
   "source": [
    "scores = maddpg_train()"
   ]
  },
  {
   "cell_type": "code",
   "execution_count": 15,
   "metadata": {},
   "outputs": [
    {
     "data": {
      "image/png": "[encoded data removed]",
      "text/plain": [
       "<matplotlib.figure.Figure at 0x7f36b02687b8>"
      ]
     },
     "metadata": {
      "needs_background": "light"
     },
     "output_type": "display_data"
    }
   ],
   "source": [
    "fig = plt.figure(figsize=(12,6))\n",
    "ax = fig.add_subplot()\n",
    "plt.plot(np.arange(1, len(scores_max_hist)+1), scores_max_hist, label='episode score')\n",
    "plt.plot(np.arange(1, len(scores_mean_hist)+1), scores_mean_hist, label='average score')\n",
    "plt.ylabel('Score',fontsize=16)\n",
    "plt.xlabel('Episode #',fontsize=16)\n",
    "plt.legend(loc='upper left',fontsize=20)\n",
    "plt.show()"
   ]
  },
  {
   "cell_type": "markdown",
   "metadata": {},
   "source": [
    "### 5. Wrapping up"
   ]
  },
  {
   "cell_type": "markdown",
   "metadata": {},
   "source": [
    "When finished, you can close the environment."
   ]
  },
  {
   "cell_type": "code",
   "execution_count": null,
   "metadata": {},
   "outputs": [],
   "source": [
    "env.close()"
   ]
  }
 ],
 "metadata": {
  "kernelspec": {
   "display_name": "Python 3",
   "language": "python",
   "name": "python3"
  },
  "language_info": {
   "codemirror_mode": {
    "name": "ipython",
    "version": 3
   },
   "file_extension": ".py",
   "mimetype": "text/x-python",
   "name": "python",
   "nbconvert_exporter": "python",
   "pygments_lexer": "ipython3",
   "version": "3.6.3"
  }
 },
 "nbformat": 4,
 "nbformat_minor": 2
}
